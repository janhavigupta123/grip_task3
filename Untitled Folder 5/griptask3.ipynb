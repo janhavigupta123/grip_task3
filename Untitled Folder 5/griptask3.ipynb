{
 "cells": [
  {
   "cell_type": "markdown",
   "metadata": {},
   "source": [
    "# THE SPARKS FOUNDATION TASK - Data Science and Business           Analytics Intern\n",
    "TASK-3\n",
    "Exploratory Data Analysis\n",
    "Author :- Janhavi Gupta\n"
   ]
  },
  {
   "cell_type": "code",
   "execution_count": null,
   "metadata": {},
   "outputs": [],
   "source": [
    "#Importing all the neccessary libraries for this task\n",
    "import numpy as np\n",
    "import pandas as pd\n",
    "import matplotlib.pyplot as plt \n",
    "import seaborn as sns\n",
    "%matplotlib inline"
   ]
  },
  {
   "cell_type": "code",
   "execution_count": null,
   "metadata": {},
   "outputs": [],
   "source": [
    "#reading the data\n",
    "r_data=r\"C:\\Users\\PCI\\Downloads\\Samplesuperstore.csv\"\n",
    "a_data= pd.read_csv(r_data)\n",
    "a_data"
   ]
  },
  {
   "cell_type": "code",
   "execution_count": null,
   "metadata": {},
   "outputs": [],
   "source": [
    "a_data.describe() #tellsus about the various statistics of data"
   ]
  },
  {
   "cell_type": "code",
   "execution_count": null,
   "metadata": {},
   "outputs": [],
   "source": [
    "a_data.shape"
   ]
  },
  {
   "cell_type": "code",
   "execution_count": null,
   "metadata": {},
   "outputs": [],
   "source": [
    "a_data.info()# info about data ,tell us about total number of items ,null values and dtypes of each columns"
   ]
  },
  {
   "cell_type": "code",
   "execution_count": null,
   "metadata": {},
   "outputs": [],
   "source": [
    "a_data.nunique() # number unique value in each columns"
   ]
  },
  {
   "cell_type": "code",
   "execution_count": null,
   "metadata": {},
   "outputs": [],
   "source": [
    "a_data.columns"
   ]
  },
  {
   "cell_type": "code",
   "execution_count": null,
   "metadata": {},
   "outputs": [],
   "source": [
    "# Cleaning the data\n",
    "a_data.duplicated().sum() # checking duplicate"
   ]
  },
  {
   "cell_type": "code",
   "execution_count": null,
   "metadata": {},
   "outputs": [],
   "source": [
    "a_data.drop_duplicates(inplace=True)# removing duplicate value\n",
    "a_data.shape"
   ]
  },
  {
   "cell_type": "code",
   "execution_count": null,
   "metadata": {},
   "outputs": [],
   "source": [
    "a_data.isnull().sum()#CHECKING  NULL VALUES IN COLUMNS"
   ]
  },
  {
   "cell_type": "code",
   "execution_count": null,
   "metadata": {},
   "outputs": [],
   "source": [
    "a_data.drop([\"Country\",\"Postal Code\"],axis=1)# removing unneccessary columns from our data"
   ]
  },
  {
   "cell_type": "code",
   "execution_count": null,
   "metadata": {},
   "outputs": [],
   "source": [
    "#relationship analysis\n",
    "corelation= a_data.corr()\n",
    "sns.heatmap(corelation,xticklabels=corelation.columns,yticklabels=corelation.columns,annot=True)\n",
    "# checking corelation coeff. between data "
   ]
  },
  {
   "cell_type": "code",
   "execution_count": null,
   "metadata": {},
   "outputs": [],
   "source": [
    "a_data['Ship Mode'].unique() # tell us all the unique modes of columns"
   ]
  },
  {
   "cell_type": "code",
   "execution_count": null,
   "metadata": {},
   "outputs": [],
   "source": [
    "a_data['Ship Mode'].value_counts()# number of unique modes"
   ]
  },
  {
   "cell_type": "code",
   "execution_count": null,
   "metadata": {},
   "outputs": [],
   "source": [
    "a_data['Region'].unique()"
   ]
  },
  {
   "cell_type": "code",
   "execution_count": null,
   "metadata": {},
   "outputs": [],
   "source": [
    "a_data['Region'].value_counts()"
   ]
  },
  {
   "cell_type": "code",
   "execution_count": null,
   "metadata": {},
   "outputs": [],
   "source": [
    "a_data['City'].unique()"
   ]
  },
  {
   "cell_type": "code",
   "execution_count": null,
   "metadata": {},
   "outputs": [],
   "source": [
    "a_data['City'].value_counts()"
   ]
  },
  {
   "cell_type": "code",
   "execution_count": null,
   "metadata": {},
   "outputs": [],
   "source": [
    "a_data['State'].unique()"
   ]
  },
  {
   "cell_type": "code",
   "execution_count": null,
   "metadata": {},
   "outputs": [],
   "source": [
    "a_data[\"State\"].value_counts()"
   ]
  },
  {
   "cell_type": "code",
   "execution_count": null,
   "metadata": {},
   "outputs": [],
   "source": [
    "a_data['Category'].unique()"
   ]
  },
  {
   "cell_type": "code",
   "execution_count": null,
   "metadata": {},
   "outputs": [],
   "source": [
    "a_data['Category'].value_counts()"
   ]
  },
  {
   "cell_type": "code",
   "execution_count": null,
   "metadata": {},
   "outputs": [],
   "source": [
    "a_data['Sub-Category'].unique()"
   ]
  },
  {
   "cell_type": "code",
   "execution_count": null,
   "metadata": {},
   "outputs": [],
   "source": [
    "a_data['Sub-Category'].value_counts()"
   ]
  },
  {
   "cell_type": "code",
   "execution_count": null,
   "metadata": {},
   "outputs": [],
   "source": [
    "sns.histplot(x=a_data[\"Ship Mode\"],bins=5)\n",
    "plt.title(\"Ship Mode Prefence\")"
   ]
  },
  {
   "cell_type": "code",
   "execution_count": null,
   "metadata": {},
   "outputs": [],
   "source": [
    "sns.histplot(x=a_data[\"Segment\"],color=\"g\")\n",
    "plt.title(\"Customer Segments\")"
   ]
  },
  {
   "cell_type": "code",
   "execution_count": null,
   "metadata": {},
   "outputs": [],
   "source": [
    "plt.figure(figsize=(10,10))\n",
    "a_data[\"Category\"].value_counts().plot.pie(autopct=\"%1.1f%%\")\n",
    "plt.title(\"Category wise percentage of ordered items\")"
   ]
  },
  {
   "cell_type": "code",
   "execution_count": null,
   "metadata": {},
   "outputs": [],
   "source": [
    "plt.figure(figsize=(10,10))\n",
    "a_data[\"Sub-Category\"].value_counts().plot.pie(autopct=\"%1.1f%%\")\n",
    "plt.title(\"Sub Category wise percenyage of ordered items\")"
   ]
  },
  {
   "cell_type": "code",
   "execution_count": null,
   "metadata": {},
   "outputs": [],
   "source": [
    "sns.countplot(x=a_data[\"Region\"],hue=a_data[\"Category\"])\n",
    "plt.title(\"Region wise category of sold product\")"
   ]
  },
  {
   "cell_type": "markdown",
   "metadata": {},
   "source": [
    "# We will find the weak area where we can work to make more profit"
   ]
  },
  {
   "cell_type": "code",
   "execution_count": null,
   "metadata": {},
   "outputs": [],
   "source": [
    "##we will check the amount of profit and sales coming from items of different category\n",
    "cw=a_data.groupby(\"Category\")[\"Profit\",\"Sales\"].agg(\"sum\")\n",
    "print(cw)\n",
    "cw.plot.bar()\n",
    "plt.legend(loc=\"upper left\")\n",
    "plt.title(\"Categorywise  Profit and Sales\")"
   ]
  },
  {
   "cell_type": "code",
   "execution_count": null,
   "metadata": {},
   "outputs": [],
   "source": [
    "fig,axes=plt.subplots(1,2,figsize=(14,5))\n",
    "fig.suptitle(\"Quantity and Discounts on different category items\")\n",
    "sns.lineplot(x=\"Category\",y=\"Quantity\",data=a_data,ax=axes[0])\n",
    "sns.lineplot(x=\"Category\",y=\"Discount\",data=a_data,ax=axes[1])"
   ]
  },
  {
   "cell_type": "code",
   "execution_count": null,
   "metadata": {},
   "outputs": [],
   "source": [
    "# Total Profit ans Sales coming from each mode\n",
    "rw=a_data.groupby(\"Ship Mode\")[\"Profit\",\"Sales\"].agg(\"sum\")\n",
    "print(rw)\n",
    "rw.plot.bar()\n",
    "plt.legend(loc=\"upper left\")\n",
    "plt.title(\"Ship Mode wise  Profit and Sales\")"
   ]
  },
  {
   "cell_type": "code",
   "execution_count": null,
   "metadata": {},
   "outputs": [],
   "source": [
    "# Checking quantity and discount on items from different mode\n",
    "fig,axes=plt.subplots(1,2,figsize=(14,5))\n",
    "fig.suptitle(\"Quantity and Discounts on different mode\")\n",
    "sns.lineplot(x=\"Ship Mode\",y=\"Discount\",data=a_data,ax=axes[0])\n",
    "sns.lineplot(x=\"Ship Mode\",y=\"Quantity\",data=a_data,ax=axes[1])"
   ]
  },
  {
   "cell_type": "code",
   "execution_count": null,
   "metadata": {},
   "outputs": [],
   "source": [
    "fig,axes=plt.subplots(1,2,figsize=(14,5))\n",
    "fig.suptitle(\"Quantity and Discount on items from different Segments\",size=15)\n",
    "sns.lineplot(x=\"Segment\",y=\"Discount\",data=df,ax=axes[0])\n",
    "sns.lineplot(x=\"Segment\",y=\"Quantity\",data=df,ax=axes[1])\n",
    "plt.show()"
   ]
  },
  {
   "cell_type": "code",
   "execution_count": null,
   "metadata": {},
   "outputs": [],
   "source": [
    "fig,axes=plt.subplots(4,1,figsize=(14,6))\n",
    "fig.suptitle(\"Quantity and Discounts on different mode\")\n",
    "sns.barplot(x=\"Region\",y=\"Quantity\",data=a_data,hue=\"Category\",ax=axes[0])\n",
    "sns.barplot(x=\"Region\",y=\"Discount\",data=a_data,hue=\"Category\",ax=axes[1])\n",
    "sns.barplot(x=\"Region\",y=\"Profit\",data=a_data,hue=\"Category\",ax=axes[2])\n",
    "sns.barplot(x=\"Region\",y=\"Sales\",data=a_data,hue=\"Category\",ax=axes[3])"
   ]
  },
  {
   "cell_type": "markdown",
   "metadata": {},
   "source": [
    "Here we can see\n",
    "\n",
    "Quantity of items are same in each region\n",
    "Discount on items in cental region is high\n",
    "Profit is less in central region\n",
    "Sales are almost same in all region\n"
   ]
  },
  {
   "cell_type": "markdown",
   "metadata": {},
   "source": [
    "### Thank you"
   ]
  },
  {
   "cell_type": "code",
   "execution_count": null,
   "metadata": {},
   "outputs": [],
   "source": []
  }
 ],
 "metadata": {
  "kernelspec": {
   "display_name": "Python 3",
   "language": "python",
   "name": "python3"
  },
  "language_info": {
   "codemirror_mode": {
    "name": "ipython",
    "version": 3
   },
   "file_extension": ".py",
   "mimetype": "text/x-python",
   "name": "python",
   "nbconvert_exporter": "python",
   "pygments_lexer": "ipython3",
   "version": "3.8.3"
  }
 },
 "nbformat": 4,
 "nbformat_minor": 4
}
